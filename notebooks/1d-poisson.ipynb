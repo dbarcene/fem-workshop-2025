{
 "cells": [
  {
   "cell_type": "markdown",
   "id": "3a820997-f103-45fa-bc4d-80fd2ce8949c",
   "metadata": {},
   "source": [
    "# Ecuación de Poisson en 1D \n",
    "\n",
    "Aplicaremos el método de elementos finitos a un problema electrostático con condiciones de frontera en una dimensión para ejemplificar el uso del método de elementos finitos y los pasos a seguir.\n",
    "\n",
    "\n",
    "**Problema en 1D:** Considere dos placas conductoras infinitas paralelas que se posicionan perpendicularmente al eje $x$ y separadas por una distancia $d$, como se muestra en la figura. Una placa tiene un potencial eléctrico constante $V = V_0$ y la otra un potencial $V = 0$. La region entre las placas está llena de un medio no magnético con una constante dieléctrica relativa $\\varepsilon_{r}$ y una densidad volumétrica $\\rho_{v} = -\\rho_{0}$. Obtener las soluciones analítica y por elementos finitos para el potencial eléctrico en la región comprendida entre las dos placas."
   ]
  },
  {
   "attachments": {
    "c7f4625f-5abc-4c73-baab-f8cdaef8771d.png": {
     "image/png": "[encoded data removed]"
    }
   },
   "cell_type": "markdown",
   "id": "e17b01e5-c10e-46c1-a611-a1df8a9ab9a3",
   "metadata": {},
   "source": [
    "![1dpoisson.png](attachment:c7f4625f-5abc-4c73-baab-f8cdaef8771d.png)"
   ]
  }
 ],
 "metadata": {
  "kernelspec": {
   "display_name": "Python 3 (ipykernel)",
   "language": "python",
   "name": "python3"
  },
  "language_info": {
   "codemirror_mode": {
    "name": "ipython",
    "version": 3
   },
   "file_extension": ".py",
   "mimetype": "text/x-python",
   "name": "python",
   "nbconvert_exporter": "python",
   "pygments_lexer": "ipython3",
   "version": "3.11.5"
  }
 },
 "nbformat": 4,
 "nbformat_minor": 5
}
