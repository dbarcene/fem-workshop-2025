{
 "cells": [
  {
   "cell_type": "markdown",
   "id": "3a820997-f103-45fa-bc4d-80fd2ce8949c",
   "metadata": {},
   "source": [
    "# Ecuación de Poisson en 1D \n",
    "\n",
    "Aplicaremos el método de elementos finitos a un problema electrostático con condiciones de frontera en una dimensión para ejemplificar el uso del método de elementos finitos y los pasos a seguir.\n",
    "\n",
    "\n",
    "**Problema en 1D:** Considere dos placas conductoras infinitas paralelas que se posicionan perpendicularmente al eje $x$ y separadas por una distancia $d$, como se muestra en la figura. Una placa tiene un potencial eléctrico constante $V = V_0$ y la otra un potencial $V = 0$. La region entre las placas está llena de un medio no magnético con una constante dieléctrica relativa $\\varepsilon_{r}$ y una densidad volumétrica $\\rho_{v} = -\\rho_{0}$. Obtener las soluciones analítica y por elementos finitos para el potencial eléctrico en la región comprendida entre las dos placas."
   ]
  },
  {
   "cell_type": "markdown",
   "id": "e17b01e5-c10e-46c1-a611-a1df8a9ab9a3",
   "metadata": {},
   "source": [
    "![](./figures/1dpoisson.png)"
   ]
  },
  {
   "cell_type": "markdown",
   "id": "116cd209-4cfc-454b-8fac-72a6f9b0bdaa",
   "metadata": {},
   "source": [
    "### Solución Analítica\n",
    "\n",
    "El potencial eléctrico está governado por la ecuación de Poisson\n",
    "$$\\nabla\\cdot(\\varepsilon_{r}\\nabla V) = -\\frac{\\rho_{v}}{\\varepsilon_{0}}$$\n",
    "\n",
    "Condiciones de frontera:\n",
    "$$V(0) = V_{0}$$\n",
    "$$V(d) = 0$$\n",
    "\n",
    "Para un medio homogéneo y lineal en una dimensión, escribimos la ecuación de Poisson como\n",
    "$$\\frac{d^{2}V}{dx^{2}} = \\frac{\\rho_{0}}{\\varepsilon_{r}\\varepsilon_{0}}$$\n",
    "\n",
    "donde $\\rho_{v} = -\\rho_{0}$. Integrando dos veces se obtiene\n",
    "$$ V(x) = \\frac{\\rho_{0}}{2\\varepsilon_{r}\\varepsilon_{0}}x^{2} + c_{1}x + c_{0}$$\n",
    "\n",
    "donde $c_{1}$ y $c_{0}$ son constantes que se determinan mediante las condiciones de frontera *(condiciones de Dirichlet)*. Así se obtiene\n",
    "$$ V(x) = \\frac{\\rho_{0}}{2\\varepsilon_{r}\\varepsilon_{0}}x^{2} - \\left(\\frac{\\rho_{0}d}{2\\varepsilon_{r}\\varepsilon_{0}} + \\frac{V_{0}}{d}\\right)x + V_{0}$$"
   ]
  },
  {
   "cell_type": "markdown",
   "id": "d815045c-b131-4deb-9021-9b194a5fb115",
   "metadata": {},
   "source": [
    "# Solución con el Método de Elementos Finitos\n",
    "\n",
    "Este problema corresponde a una línea recta en el eje $x$. Se discretiza este dominio dividiendolo en $N_{e}$ elementos finitos y $N_{n}$ nodos. Los elementos que se muestran en la figura están encerrados en un circulo."
   ]
  },
  {
   "cell_type": "markdown",
   "id": "d91be248-4ada-4e7b-a918-4ce1db2f2940",
   "metadata": {},
   "source": [
    "![](./figures/1d-discret.png)"
   ]
  },
  {
   "cell_type": "code",
   "execution_count": 1,
   "id": "cd535571-82e8-44a3-a099-6141d4dce21b",
   "metadata": {},
   "outputs": [],
   "source": [
    "import numpy as np\n",
    "import matplotlib.pyplot as plt\n",
    "%matplotlib inline\n",
    "#plt.rcParams['text.usetex'] = True  # Uncomment to render pyplot text as LaTeX\n",
    "plt.rc('figure', titlesize=18)\n",
    "plt.rc('axes', titlesize=20)\n",
    "plt.rc('axes', labelsize=20)\n",
    "plt.rc('xtick', labelsize=15)\n",
    "plt.rc('ytick', labelsize=15)\n",
    "plt.rc('legend', fontsize=15)"
   ]
  },
  {
   "cell_type": "code",
   "execution_count": 2,
   "id": "e62cc535-1a00-4245-9a59-4317a1a9b92a",
   "metadata": {},
   "outputs": [],
   "source": [
    "# Parameters for analytical solution\n",
    "e0 = 8.85e-12       # F/m\n",
    "er = 1              # Relative permittivity\n",
    "e = er*e0\n",
    "V0 = 1              # V\n",
    "d = 8e-2            # m  (8 cm)\n",
    "rho0 = 1e-8         # C/m"
   ]
  },
  {
   "cell_type": "code",
   "execution_count": 3,
   "id": "16b743c0-062a-42ff-a1b2-6c12975156ae",
   "metadata": {},
   "outputs": [
    {
     "name": "stdout",
     "output_type": "stream",
     "text": [
      "Node list \n",
      " [[0.         0.        ]\n",
      " [0.00888889 0.        ]\n",
      " [0.01777778 0.        ]\n",
      " [0.02666667 0.        ]\n",
      " [0.03555556 0.        ]\n",
      " [0.04444444 0.        ]\n",
      " [0.05333333 0.        ]\n",
      " [0.06222222 0.        ]\n",
      " [0.07111111 0.        ]\n",
      " [0.08       0.        ]]\n",
      "\n",
      "\n",
      "Element list \n",
      " [[ 1  2]\n",
      " [ 2  3]\n",
      " [ 3  4]\n",
      " [ 4  5]\n",
      " [ 5  6]\n",
      " [ 6  7]\n",
      " [ 7  8]\n",
      " [ 8  9]\n",
      " [ 9 10]]\n"
     ]
    }
   ],
   "source": [
    "NoN = 10            # Number of Nodes\n",
    "NoE = NoN - 1       # Number of Elements\n",
    "\n",
    "xn = np.linspace(0, d, NoN)\n",
    "yn = np.zeros(NoN)\n",
    "\n",
    "NL = np.array([xn, yn]).T   #Node List\n",
    "EL = np.zeros([NoE, 2]).astype('int64') #Element List\n",
    "\n",
    "for j in range(2):\n",
    "    for i in range(NoE):\n",
    "        EL[i,j] = i + j + 1\n",
    "\n",
    "\n",
    "print('Node list \\n', NL)Mount SSD in Linux\n",
    "print('\\n')\n",
    "print('Element list \\n', EL)"
   ]
  },
  {
   "cell_type": "markdown",
   "id": "7a0959c8-ece9-46f4-8dda-151672e7410e",
   "metadata": {},
   "source": [
    "## Ensamblaje del sistema matricial"
   ]
  },
  {
   "cell_type": "code",
   "execution_count": 4,
   "id": "9fb2321b-0c91-406d-859f-7663364ab2dc",
   "metadata": {},
   "outputs": [
    {
     "name": "stdout",
     "output_type": "stream",
     "text": [
      "Stiffness matrix\n",
      "[[ 9.95625e-10 -9.95625e-10  0.00000e+00  0.00000e+00  0.00000e+00\n",
      "   0.00000e+00  0.00000e+00  0.00000e+00  0.00000e+00  0.00000e+00]\n",
      " [-9.95625e-10  1.99125e-09 -9.95625e-10  0.00000e+00  0.00000e+00\n",
      "   0.00000e+00  0.00000e+00  0.00000e+00  0.00000e+00  0.00000e+00]\n",
      " [ 0.00000e+00 -9.95625e-10  1.99125e-09 -9.95625e-10  0.00000e+00\n",
      "   0.00000e+00  0.00000e+00  0.00000e+00  0.00000e+00  0.00000e+00]\n",
      " [ 0.00000e+00  0.00000e+00 -9.95625e-10  1.99125e-09 -9.95625e-10\n",
      "   0.00000e+00  0.00000e+00  0.00000e+00  0.00000e+00  0.00000e+00]\n",
      " [ 0.00000e+00  0.00000e+00  0.00000e+00 -9.95625e-10  1.99125e-09\n",
      "  -9.95625e-10  0.00000e+00  0.00000e+00  0.00000e+00  0.00000e+00]\n",
      " [ 0.00000e+00  0.00000e+00  0.00000e+00  0.00000e+00 -9.95625e-10\n",
      "   1.99125e-09 -9.95625e-10  0.00000e+00  0.00000e+00  0.00000e+00]\n",
      " [ 0.00000e+00  0.00000e+00  0.00000e+00  0.00000e+00  0.00000e+00\n",
      "  -9.95625e-10  1.99125e-09 -9.95625e-10  0.00000e+00  0.00000e+00]\n",
      " [ 0.00000e+00  0.00000e+00  0.00000e+00  0.00000e+00  0.00000e+00\n",
      "   0.00000e+00 -9.95625e-10  1.99125e-09 -9.95625e-10  0.00000e+00]\n",
      " [ 0.00000e+00  0.00000e+00  0.00000e+00  0.00000e+00  0.00000e+00\n",
      "   0.00000e+00  0.00000e+00 -9.95625e-10  1.99125e-09 -9.95625e-10]\n",
      " [ 0.00000e+00  0.00000e+00  0.00000e+00  0.00000e+00  0.00000e+00\n",
      "   0.00000e+00  0.00000e+00  0.00000e+00 -9.95625e-10  9.95625e-10]]\n",
      "\n",
      "\n",
      "Voltage vector\n",
      "[-4.44444444e-11 -8.88888889e-11 -8.88888889e-11 -8.88888889e-11\n",
      " -8.88888889e-11 -8.88888889e-11 -8.88888889e-11 -8.88888889e-11\n",
      " -8.88888889e-11 -4.44444444e-11]\n"
     ]
    }
   ],
   "source": [
    "K = np.zeros([NoN, NoN])\n",
    "f = np.zeros(NoN)\n",
    "le = np.zeros(NoE)\n",
    "\n",
    "for i in range(NoE):\n",
    "    le[i] = xn[EL[i,1]-1] - xn[EL[i,0]-1]\n",
    "    \n",
    "#Global Assembly\n",
    "for i in range(NoE):\n",
    "    #Stiffness matrix\n",
    "    K[EL[i,0]-1, EL[i,0]-1] = K[EL[i,0]-1, EL[i,0]-1] + e/le[i]\n",
    "    K[EL[i,0]-1, EL[i,1]-1] = K[EL[i,0]-1, EL[i,1]-1] - e/le[i]\n",
    "    K[EL[i,1]-1, EL[i,0]-1] = K[EL[i,1]-1, EL[i,0]-1] - e/le[i]\n",
    "    K[EL[i,1]-1, EL[i,1]-1] = K[EL[i,1]-1, EL[i,1]-1] + e/le[i]\n",
    "    #force vector\n",
    "    f[EL[i,0]-1] = f[EL[i,0]-1] - le[i]*rho0/2\n",
    "    f[EL[i,1]-1] = f[EL[i,1]-1] - le[i]*rho0/2\n",
    "\n",
    "print('Stiffness matrix')    \n",
    "print(K)\n",
    "print('\\n')\n",
    "print('Voltage vector') \n",
    "print(f)"
   ]
  },
  {
   "cell_type": "markdown",
   "id": "16df808e-7370-46e2-80f6-fe6d1ff0063d",
   "metadata": {},
   "source": [
    "## Condiciones de frontera\n",
    "\n",
    "Se imponen haciendo que el resultado para la primera fila y la ultima de la matriz $K$ sean cero, excepto los valores en los extremos que deben cer iguales a 1."
   ]
  },
  {
   "cell_type": "code",
   "execution_count": 5,
   "id": "e24e1603-287b-4b61-a10d-a79dc35bbc4b",
   "metadata": {},
   "outputs": [
    {
     "name": "stdout",
     "output_type": "stream",
     "text": [
      "Stiffness matrix\n",
      "[[ 1.00000e+00  0.00000e+00  0.00000e+00  0.00000e+00  0.00000e+00\n",
      "   0.00000e+00  0.00000e+00  0.00000e+00  0.00000e+00  0.00000e+00]\n",
      " [-9.95625e-10  1.99125e-09 -9.95625e-10  0.00000e+00  0.00000e+00\n",
      "   0.00000e+00  0.00000e+00  0.00000e+00  0.00000e+00  0.00000e+00]\n",
      " [ 0.00000e+00 -9.95625e-10  1.99125e-09 -9.95625e-10  0.00000e+00\n",
      "   0.00000e+00  0.00000e+00  0.00000e+00  0.00000e+00  0.00000e+00]\n",
      " [ 0.00000e+00  0.00000e+00 -9.95625e-10  1.99125e-09 -9.95625e-10\n",
      "   0.00000e+00  0.00000e+00  0.00000e+00  0.00000e+00  0.00000e+00]\n",
      " [ 0.00000e+00  0.00000e+00  0.00000e+00 -9.95625e-10  1.99125e-09\n",
      "  -9.95625e-10  0.00000e+00  0.00000e+00  0.00000e+00  0.00000e+00]\n",
      " [ 0.00000e+00  0.00000e+00  0.00000e+00  0.00000e+00 -9.95625e-10\n",
      "   1.99125e-09 -9.95625e-10  0.00000e+00  0.00000e+00  0.00000e+00]\n",
      " [ 0.00000e+00  0.00000e+00  0.00000e+00  0.00000e+00  0.00000e+00\n",
      "  -9.95625e-10  1.99125e-09 -9.95625e-10  0.00000e+00  0.00000e+00]\n",
      " [ 0.00000e+00  0.00000e+00  0.00000e+00  0.00000e+00  0.00000e+00\n",
      "   0.00000e+00 -9.95625e-10  1.99125e-09 -9.95625e-10  0.00000e+00]\n",
      " [ 0.00000e+00  0.00000e+00  0.00000e+00  0.00000e+00  0.00000e+00\n",
      "   0.00000e+00  0.00000e+00 -9.95625e-10  1.99125e-09 -9.95625e-10]\n",
      " [ 0.00000e+00  0.00000e+00  0.00000e+00  0.00000e+00  0.00000e+00\n",
      "   0.00000e+00  0.00000e+00  0.00000e+00  0.00000e+00  1.00000e+00]]\n",
      "\n",
      "\n",
      "Solution vector\n",
      "[ 1.00000000e+00 -8.88888889e-11 -8.88888889e-11 -8.88888889e-11\n",
      " -8.88888889e-11 -8.88888889e-11 -8.88888889e-11 -8.88888889e-11\n",
      " -8.88888889e-11  0.00000000e+00]\n"
     ]
    }
   ],
   "source": [
    "#Boundary conditions\n",
    "# first node\n",
    "K[0,0] = 1\n",
    "f[0] = V0\n",
    "for i in range(1,NoN):\n",
    "    K[0,i] = 0\n",
    "    \n",
    "# last node    \n",
    "K[NoN -1,NoN -1] = 1\n",
    "f[NoN -1] = 0\n",
    "for i in range(NoN -1):\n",
    "    K[NoN-1,i] = 0\n",
    "    \n",
    "print('Stiffness matrix')    \n",
    "print(K)\n",
    "print('\\n')\n",
    "print('Solution vector') \n",
    "print(f)"
   ]
  },
  {
   "cell_type": "markdown",
   "id": "e17b4705-ea7a-4a87-a6c0-e213ecb3665e",
   "metadata": {},
   "source": [
    "## Solución del Sistema Matricial"
   ]
  },
  {
   "cell_type": "code",
   "execution_count": 6,
   "id": "8672fe0f-9d6e-4b84-abbf-2f9463ef2081",
   "metadata": {
    "scrolled": true
   },
   "outputs": [],
   "source": [
    "V_sol = np.linalg.solve(K,f)"
   ]
  },
  {
   "cell_type": "markdown",
   "id": "0b2c4976-8019-4d65-a702-12be30024b9b",
   "metadata": {},
   "source": [
    "## Visulaización"
   ]
  },
  {
   "cell_type": "code",
   "execution_count": 7,
   "id": "2146f82b-dcb6-4d77-8070-26ac9c7351bc",
   "metadata": {},
   "outputs": [
    {
     "data": {
      "text/plain": [
       "<matplotlib.legend.Legend at 0x7fa47005d3a0>"
      ]
     },
     "execution_count": 7,
     "metadata": {},
     "output_type": "execute_result"
    },
    {
     "data": {
      "image/png": "[encoded data removed]",
      "text/plain": [
       "<Figure size 800x800 with 1 Axes>"
      ]
     },
     "metadata": {},
     "output_type": "display_data"
    }
   ],
   "source": [
    "x = np.linspace(0, d, 100)\n",
    "V = (rho0/(2*er*e0))*np.power(x, 2) - (rho0*d/(2*er*e0) + V0/d)*x + V0\n",
    "\n",
    "fig = plt.figure(figsize=(8, 8))\n",
    "ax = fig.add_subplot(111)\n",
    "ax.plot(x, V, 'r--', label='analytical')\n",
    "ax.plot(xn, V_sol, 'bo-', label='FEM')\n",
    "ax.plot(xn, yn, 'co-', alpha=0.5)\n",
    "ax.grid(True)\n",
    "ax.set_xlabel(r'Distance / $m$')\n",
    "ax.set_ylabel(r'Electric potential / $V$')\n",
    "ax.legend()"
   ]
  },
  {
   "cell_type": "code",
   "execution_count": null,
   "id": "48ddc7cf-b460-4e1c-891e-ec0fcd774157",
   "metadata": {},
   "outputs": [],
   "source": []
  }
 ],
 "metadata": {
  "kernelspec": {
   "display_name": "Python 3 (ipykernel)",
   "language": "python",
   "name": "python3"
  },
  "language_info": {
   "codemirror_mode": {
    "name": "ipython",
    "version": 3
   },
   "file_extension": ".py",
   "mimetype": "text/x-python",
   "name": "python",
   "nbconvert_exporter": "python",
   "pygments_lexer": "ipython3",
   "version": "3.8.8"
  }
 },
 "nbformat": 4,
 "nbformat_minor": 5
}
